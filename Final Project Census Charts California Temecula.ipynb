{
 "cells": [
  {
   "cell_type": "code",
   "execution_count": 1,
   "id": "44dfb372",
   "metadata": {},
   "outputs": [],
   "source": [
    "# Dependencies\n",
    "import pandas as pd\n",
    "import numpy as np\n",
    "import requests\n",
    "import json\n",
    "import matplotlib.pyplot as plt\n"
   ]
  },
  {
   "cell_type": "code",
   "execution_count": 2,
   "id": "2d1fcf48",
   "metadata": {},
   "outputs": [],
   "source": [
    "US_census_df = pd.read_csv(\"../US census date final.csv\")"
   ]
  },
  {
   "cell_type": "code",
   "execution_count": 3,
   "id": "27ff644d",
   "metadata": {
    "scrolled": false
   },
   "outputs": [
    {
     "data": {
      "text/html": [
       "<div>\n",
       "<style scoped>\n",
       "    .dataframe tbody tr th:only-of-type {\n",
       "        vertical-align: middle;\n",
       "    }\n",
       "\n",
       "    .dataframe tbody tr th {\n",
       "        vertical-align: top;\n",
       "    }\n",
       "\n",
       "    .dataframe thead th {\n",
       "        text-align: right;\n",
       "    }\n",
       "</style>\n",
       "<table border=\"1\" class=\"dataframe\">\n",
       "  <thead>\n",
       "    <tr style=\"text-align: right;\">\n",
       "      <th></th>\n",
       "      <th>City</th>\n",
       "      <th>State</th>\n",
       "      <th>Total Estimate</th>\n",
       "      <th>Married Households</th>\n",
       "      <th>Male Unmarried Household</th>\n",
       "      <th>Female Unmarried Household</th>\n",
       "      <th>Nonfamily Household</th>\n",
       "    </tr>\n",
       "  </thead>\n",
       "  <tbody>\n",
       "    <tr>\n",
       "      <th>0</th>\n",
       "      <td>Auburn</td>\n",
       "      <td>Alabama</td>\n",
       "      <td>29136</td>\n",
       "      <td>13886</td>\n",
       "      <td>1034</td>\n",
       "      <td>2484</td>\n",
       "      <td>11732</td>\n",
       "    </tr>\n",
       "    <tr>\n",
       "      <th>1</th>\n",
       "      <td>Birmingham</td>\n",
       "      <td>Alabama</td>\n",
       "      <td>87570</td>\n",
       "      <td>18910</td>\n",
       "      <td>4355</td>\n",
       "      <td>19476</td>\n",
       "      <td>44829</td>\n",
       "    </tr>\n",
       "    <tr>\n",
       "      <th>2</th>\n",
       "      <td>Dothan</td>\n",
       "      <td>Alabama</td>\n",
       "      <td>30301</td>\n",
       "      <td>11998</td>\n",
       "      <td>1208</td>\n",
       "      <td>5818</td>\n",
       "      <td>11277</td>\n",
       "    </tr>\n",
       "    <tr>\n",
       "      <th>3</th>\n",
       "      <td>Hoover</td>\n",
       "      <td>Alabama</td>\n",
       "      <td>36721</td>\n",
       "      <td>21668</td>\n",
       "      <td>1488</td>\n",
       "      <td>2059</td>\n",
       "      <td>11506</td>\n",
       "    </tr>\n",
       "    <tr>\n",
       "      <th>4</th>\n",
       "      <td>Huntsville</td>\n",
       "      <td>Alabama</td>\n",
       "      <td>96551</td>\n",
       "      <td>39641</td>\n",
       "      <td>4259</td>\n",
       "      <td>10487</td>\n",
       "      <td>42164</td>\n",
       "    </tr>\n",
       "    <tr>\n",
       "      <th>5</th>\n",
       "      <td>Mobile</td>\n",
       "      <td>Alabama</td>\n",
       "      <td>77991</td>\n",
       "      <td>25936</td>\n",
       "      <td>2637</td>\n",
       "      <td>14782</td>\n",
       "      <td>34636</td>\n",
       "    </tr>\n",
       "    <tr>\n",
       "      <th>6</th>\n",
       "      <td>Montgomery</td>\n",
       "      <td>Alabama</td>\n",
       "      <td>81529</td>\n",
       "      <td>25255</td>\n",
       "      <td>4010</td>\n",
       "      <td>20039</td>\n",
       "      <td>32225</td>\n",
       "    </tr>\n",
       "    <tr>\n",
       "      <th>7</th>\n",
       "      <td>Tuscaloosa</td>\n",
       "      <td>Alabama</td>\n",
       "      <td>39266</td>\n",
       "      <td>12913</td>\n",
       "      <td>2340</td>\n",
       "      <td>6699</td>\n",
       "      <td>17314</td>\n",
       "    </tr>\n",
       "    <tr>\n",
       "      <th>8</th>\n",
       "      <td>Avondale</td>\n",
       "      <td>Arizona</td>\n",
       "      <td>26611</td>\n",
       "      <td>14222</td>\n",
       "      <td>1455</td>\n",
       "      <td>5517</td>\n",
       "      <td>5417</td>\n",
       "    </tr>\n",
       "    <tr>\n",
       "      <th>9</th>\n",
       "      <td>Buckeye</td>\n",
       "      <td>Arizona</td>\n",
       "      <td>30913</td>\n",
       "      <td>20801</td>\n",
       "      <td>712</td>\n",
       "      <td>2919</td>\n",
       "      <td>6481</td>\n",
       "    </tr>\n",
       "    <tr>\n",
       "      <th>10</th>\n",
       "      <td>Chandler</td>\n",
       "      <td>Arizona</td>\n",
       "      <td>107668</td>\n",
       "      <td>56545</td>\n",
       "      <td>5248</td>\n",
       "      <td>11816</td>\n",
       "      <td>34059</td>\n",
       "    </tr>\n",
       "    <tr>\n",
       "      <th>11</th>\n",
       "      <td>Flagstaff</td>\n",
       "      <td>Arizona</td>\n",
       "      <td>29435</td>\n",
       "      <td>11694</td>\n",
       "      <td>490</td>\n",
       "      <td>2382</td>\n",
       "      <td>14869</td>\n",
       "    </tr>\n",
       "    <tr>\n",
       "      <th>12</th>\n",
       "      <td>Gilbert</td>\n",
       "      <td>Arizona</td>\n",
       "      <td>93472</td>\n",
       "      <td>58463</td>\n",
       "      <td>4349</td>\n",
       "      <td>8582</td>\n",
       "      <td>22078</td>\n",
       "    </tr>\n",
       "    <tr>\n",
       "      <th>13</th>\n",
       "      <td>Glendale</td>\n",
       "      <td>Arizona</td>\n",
       "      <td>90604</td>\n",
       "      <td>43398</td>\n",
       "      <td>5687</td>\n",
       "      <td>12651</td>\n",
       "      <td>28868</td>\n",
       "    </tr>\n",
       "    <tr>\n",
       "      <th>14</th>\n",
       "      <td>Goodyear</td>\n",
       "      <td>Arizona</td>\n",
       "      <td>33130</td>\n",
       "      <td>22405</td>\n",
       "      <td>1337</td>\n",
       "      <td>3088</td>\n",
       "      <td>6300</td>\n",
       "    </tr>\n",
       "    <tr>\n",
       "      <th>15</th>\n",
       "      <td>Mesa</td>\n",
       "      <td>Arizona</td>\n",
       "      <td>199112</td>\n",
       "      <td>91903</td>\n",
       "      <td>11509</td>\n",
       "      <td>23284</td>\n",
       "      <td>72416</td>\n",
       "    </tr>\n",
       "    <tr>\n",
       "      <th>16</th>\n",
       "      <td>Peoria</td>\n",
       "      <td>Arizona</td>\n",
       "      <td>75479</td>\n",
       "      <td>40367</td>\n",
       "      <td>3194</td>\n",
       "      <td>8017</td>\n",
       "      <td>23901</td>\n",
       "    </tr>\n",
       "    <tr>\n",
       "      <th>17</th>\n",
       "      <td>Phoenix</td>\n",
       "      <td>Arizona</td>\n",
       "      <td>602039</td>\n",
       "      <td>250761</td>\n",
       "      <td>46825</td>\n",
       "      <td>87436</td>\n",
       "      <td>217017</td>\n",
       "    </tr>\n",
       "    <tr>\n",
       "      <th>18</th>\n",
       "      <td>Queen Creek</td>\n",
       "      <td>Arizona</td>\n",
       "      <td>20981</td>\n",
       "      <td>15375</td>\n",
       "      <td>976</td>\n",
       "      <td>2215</td>\n",
       "      <td>2415</td>\n",
       "    </tr>\n",
       "    <tr>\n",
       "      <th>19</th>\n",
       "      <td>Scottsdale</td>\n",
       "      <td>Arizona</td>\n",
       "      <td>119122</td>\n",
       "      <td>54186</td>\n",
       "      <td>3495</td>\n",
       "      <td>8026</td>\n",
       "      <td>53415</td>\n",
       "    </tr>\n",
       "    <tr>\n",
       "      <th>20</th>\n",
       "      <td>Surprise</td>\n",
       "      <td>Arizona</td>\n",
       "      <td>55339</td>\n",
       "      <td>31774</td>\n",
       "      <td>3910</td>\n",
       "      <td>6489</td>\n",
       "      <td>13166</td>\n",
       "    </tr>\n",
       "    <tr>\n",
       "      <th>21</th>\n",
       "      <td>Tempe</td>\n",
       "      <td>Arizona</td>\n",
       "      <td>77306</td>\n",
       "      <td>22633</td>\n",
       "      <td>4696</td>\n",
       "      <td>7442</td>\n",
       "      <td>42535</td>\n",
       "    </tr>\n",
       "    <tr>\n",
       "      <th>22</th>\n",
       "      <td>Tucson</td>\n",
       "      <td>Arizona</td>\n",
       "      <td>223068</td>\n",
       "      <td>78652</td>\n",
       "      <td>15018</td>\n",
       "      <td>32826</td>\n",
       "      <td>96572</td>\n",
       "    </tr>\n",
       "    <tr>\n",
       "      <th>23</th>\n",
       "      <td>Yuma</td>\n",
       "      <td>Arizona</td>\n",
       "      <td>36530</td>\n",
       "      <td>17026</td>\n",
       "      <td>2393</td>\n",
       "      <td>7518</td>\n",
       "      <td>9593</td>\n",
       "    </tr>\n",
       "    <tr>\n",
       "      <th>24</th>\n",
       "      <td>Conway</td>\n",
       "      <td>Arkansas</td>\n",
       "      <td>25251</td>\n",
       "      <td>10439</td>\n",
       "      <td>1113</td>\n",
       "      <td>3372</td>\n",
       "      <td>10327</td>\n",
       "    </tr>\n",
       "    <tr>\n",
       "      <th>25</th>\n",
       "      <td>Fayetteville</td>\n",
       "      <td>Arkansas</td>\n",
       "      <td>40104</td>\n",
       "      <td>14451</td>\n",
       "      <td>2553</td>\n",
       "      <td>3891</td>\n",
       "      <td>19209</td>\n",
       "    </tr>\n",
       "    <tr>\n",
       "      <th>26</th>\n",
       "      <td>Fort Smith</td>\n",
       "      <td>Arkansas</td>\n",
       "      <td>36390</td>\n",
       "      <td>15128</td>\n",
       "      <td>2352</td>\n",
       "      <td>5902</td>\n",
       "      <td>13008</td>\n",
       "    </tr>\n",
       "    <tr>\n",
       "      <th>27</th>\n",
       "      <td>Jonesboro</td>\n",
       "      <td>Arkansas</td>\n",
       "      <td>30432</td>\n",
       "      <td>13532</td>\n",
       "      <td>1600</td>\n",
       "      <td>4659</td>\n",
       "      <td>10641</td>\n",
       "    </tr>\n",
       "    <tr>\n",
       "      <th>28</th>\n",
       "      <td>Little Rock</td>\n",
       "      <td>Arkansas</td>\n",
       "      <td>89422</td>\n",
       "      <td>34012</td>\n",
       "      <td>3777</td>\n",
       "      <td>14994</td>\n",
       "      <td>36639</td>\n",
       "    </tr>\n",
       "    <tr>\n",
       "      <th>29</th>\n",
       "      <td>Rogers</td>\n",
       "      <td>Arkansas</td>\n",
       "      <td>25872</td>\n",
       "      <td>14733</td>\n",
       "      <td>1525</td>\n",
       "      <td>3413</td>\n",
       "      <td>6201</td>\n",
       "    </tr>\n",
       "  </tbody>\n",
       "</table>\n",
       "</div>"
      ],
      "text/plain": [
       "            City     State  Total Estimate  Married Households  \\\n",
       "0         Auburn   Alabama           29136               13886   \n",
       "1     Birmingham   Alabama           87570               18910   \n",
       "2         Dothan   Alabama           30301               11998   \n",
       "3         Hoover   Alabama           36721               21668   \n",
       "4     Huntsville   Alabama           96551               39641   \n",
       "5         Mobile   Alabama           77991               25936   \n",
       "6     Montgomery   Alabama           81529               25255   \n",
       "7     Tuscaloosa   Alabama           39266               12913   \n",
       "8       Avondale   Arizona           26611               14222   \n",
       "9        Buckeye   Arizona           30913               20801   \n",
       "10      Chandler   Arizona          107668               56545   \n",
       "11     Flagstaff   Arizona           29435               11694   \n",
       "12       Gilbert   Arizona           93472               58463   \n",
       "13      Glendale   Arizona           90604               43398   \n",
       "14      Goodyear   Arizona           33130               22405   \n",
       "15          Mesa   Arizona          199112               91903   \n",
       "16        Peoria   Arizona           75479               40367   \n",
       "17       Phoenix   Arizona          602039              250761   \n",
       "18   Queen Creek   Arizona           20981               15375   \n",
       "19    Scottsdale   Arizona          119122               54186   \n",
       "20      Surprise   Arizona           55339               31774   \n",
       "21         Tempe   Arizona           77306               22633   \n",
       "22        Tucson   Arizona          223068               78652   \n",
       "23          Yuma   Arizona           36530               17026   \n",
       "24        Conway  Arkansas           25251               10439   \n",
       "25  Fayetteville  Arkansas           40104               14451   \n",
       "26    Fort Smith  Arkansas           36390               15128   \n",
       "27     Jonesboro  Arkansas           30432               13532   \n",
       "28   Little Rock  Arkansas           89422               34012   \n",
       "29        Rogers  Arkansas           25872               14733   \n",
       "\n",
       "    Male Unmarried Household  Female Unmarried Household  Nonfamily Household  \n",
       "0                       1034                        2484                11732  \n",
       "1                       4355                       19476                44829  \n",
       "2                       1208                        5818                11277  \n",
       "3                       1488                        2059                11506  \n",
       "4                       4259                       10487                42164  \n",
       "5                       2637                       14782                34636  \n",
       "6                       4010                       20039                32225  \n",
       "7                       2340                        6699                17314  \n",
       "8                       1455                        5517                 5417  \n",
       "9                        712                        2919                 6481  \n",
       "10                      5248                       11816                34059  \n",
       "11                       490                        2382                14869  \n",
       "12                      4349                        8582                22078  \n",
       "13                      5687                       12651                28868  \n",
       "14                      1337                        3088                 6300  \n",
       "15                     11509                       23284                72416  \n",
       "16                      3194                        8017                23901  \n",
       "17                     46825                       87436               217017  \n",
       "18                       976                        2215                 2415  \n",
       "19                      3495                        8026                53415  \n",
       "20                      3910                        6489                13166  \n",
       "21                      4696                        7442                42535  \n",
       "22                     15018                       32826                96572  \n",
       "23                      2393                        7518                 9593  \n",
       "24                      1113                        3372                10327  \n",
       "25                      2553                        3891                19209  \n",
       "26                      2352                        5902                13008  \n",
       "27                      1600                        4659                10641  \n",
       "28                      3777                       14994                36639  \n",
       "29                      1525                        3413                 6201  "
      ]
     },
     "execution_count": 3,
     "metadata": {},
     "output_type": "execute_result"
    }
   ],
   "source": [
    "US_census_df.head(30)"
   ]
  },
  {
   "cell_type": "code",
   "execution_count": 4,
   "id": "5ef374d5",
   "metadata": {},
   "outputs": [
    {
     "data": {
      "text/plain": [
       "543"
      ]
     },
     "execution_count": 4,
     "metadata": {},
     "output_type": "execute_result"
    }
   ],
   "source": [
    "US_census_df['City'].nunique()"
   ]
  },
  {
   "cell_type": "code",
   "execution_count": 5,
   "id": "3b9cc72c",
   "metadata": {},
   "outputs": [
    {
     "data": {
      "text/plain": [
       "47"
      ]
     },
     "execution_count": 5,
     "metadata": {},
     "output_type": "execute_result"
    }
   ],
   "source": [
    "US_census_df['State'].nunique()"
   ]
  },
  {
   "cell_type": "code",
   "execution_count": 38,
   "id": "b049b70d",
   "metadata": {},
   "outputs": [
    {
     "data": {
      "text/html": [
       "<div>\n",
       "<style scoped>\n",
       "    .dataframe tbody tr th:only-of-type {\n",
       "        vertical-align: middle;\n",
       "    }\n",
       "\n",
       "    .dataframe tbody tr th {\n",
       "        vertical-align: top;\n",
       "    }\n",
       "\n",
       "    .dataframe thead th {\n",
       "        text-align: right;\n",
       "    }\n",
       "</style>\n",
       "<table border=\"1\" class=\"dataframe\">\n",
       "  <thead>\n",
       "    <tr style=\"text-align: right;\">\n",
       "      <th></th>\n",
       "      <th>City</th>\n",
       "      <th>State</th>\n",
       "      <th>Total Estimate</th>\n",
       "      <th>Married Households</th>\n",
       "      <th>Male Unmarried Household</th>\n",
       "      <th>Female Unmarried Household</th>\n",
       "      <th>Nonfamily Household</th>\n",
       "    </tr>\n",
       "  </thead>\n",
       "  <tbody>\n",
       "    <tr>\n",
       "      <th>31</th>\n",
       "      <td>Alameda</td>\n",
       "      <td>California</td>\n",
       "      <td>30281</td>\n",
       "      <td>14284</td>\n",
       "      <td>935</td>\n",
       "      <td>3352</td>\n",
       "      <td>11710</td>\n",
       "    </tr>\n",
       "    <tr>\n",
       "      <th>32</th>\n",
       "      <td>Alhambra</td>\n",
       "      <td>California</td>\n",
       "      <td>29022</td>\n",
       "      <td>13577</td>\n",
       "      <td>2397</td>\n",
       "      <td>4473</td>\n",
       "      <td>8575</td>\n",
       "    </tr>\n",
       "    <tr>\n",
       "      <th>33</th>\n",
       "      <td>Anaheim</td>\n",
       "      <td>California</td>\n",
       "      <td>105608</td>\n",
       "      <td>53178</td>\n",
       "      <td>8273</td>\n",
       "      <td>15078</td>\n",
       "      <td>29079</td>\n",
       "    </tr>\n",
       "    <tr>\n",
       "      <th>34</th>\n",
       "      <td>Antioch</td>\n",
       "      <td>California</td>\n",
       "      <td>37081</td>\n",
       "      <td>19565</td>\n",
       "      <td>2101</td>\n",
       "      <td>6798</td>\n",
       "      <td>8617</td>\n",
       "    </tr>\n",
       "    <tr>\n",
       "      <th>35</th>\n",
       "      <td>Apple Valley</td>\n",
       "      <td>California</td>\n",
       "      <td>24657</td>\n",
       "      <td>13364</td>\n",
       "      <td>1459</td>\n",
       "      <td>2794</td>\n",
       "      <td>7040</td>\n",
       "    </tr>\n",
       "    <tr>\n",
       "      <th>...</th>\n",
       "      <td>...</td>\n",
       "      <td>...</td>\n",
       "      <td>...</td>\n",
       "      <td>...</td>\n",
       "      <td>...</td>\n",
       "      <td>...</td>\n",
       "      <td>...</td>\n",
       "    </tr>\n",
       "    <tr>\n",
       "      <th>163</th>\n",
       "      <td>West Covina</td>\n",
       "      <td>California</td>\n",
       "      <td>32012</td>\n",
       "      <td>17263</td>\n",
       "      <td>2753</td>\n",
       "      <td>6368</td>\n",
       "      <td>5628</td>\n",
       "    </tr>\n",
       "    <tr>\n",
       "      <th>164</th>\n",
       "      <td>Westminster</td>\n",
       "      <td>California</td>\n",
       "      <td>27935</td>\n",
       "      <td>15346</td>\n",
       "      <td>2043</td>\n",
       "      <td>4509</td>\n",
       "      <td>6037</td>\n",
       "    </tr>\n",
       "    <tr>\n",
       "      <th>165</th>\n",
       "      <td>Whittier</td>\n",
       "      <td>California</td>\n",
       "      <td>27773</td>\n",
       "      <td>14818</td>\n",
       "      <td>2065</td>\n",
       "      <td>4039</td>\n",
       "      <td>6851</td>\n",
       "    </tr>\n",
       "    <tr>\n",
       "      <th>166</th>\n",
       "      <td>Yorba Linda</td>\n",
       "      <td>California</td>\n",
       "      <td>24098</td>\n",
       "      <td>15656</td>\n",
       "      <td>752</td>\n",
       "      <td>1833</td>\n",
       "      <td>5857</td>\n",
       "    </tr>\n",
       "    <tr>\n",
       "      <th>167</th>\n",
       "      <td>Yuba City</td>\n",
       "      <td>California</td>\n",
       "      <td>24176</td>\n",
       "      <td>10785</td>\n",
       "      <td>1838</td>\n",
       "      <td>3872</td>\n",
       "      <td>7681</td>\n",
       "    </tr>\n",
       "  </tbody>\n",
       "</table>\n",
       "<p>137 rows × 7 columns</p>\n",
       "</div>"
      ],
      "text/plain": [
       "             City       State  Total Estimate  Married Households  \\\n",
       "31        Alameda  California           30281               14284   \n",
       "32       Alhambra  California           29022               13577   \n",
       "33        Anaheim  California          105608               53178   \n",
       "34        Antioch  California           37081               19565   \n",
       "35   Apple Valley  California           24657               13364   \n",
       "..            ...         ...             ...                 ...   \n",
       "163   West Covina  California           32012               17263   \n",
       "164   Westminster  California           27935               15346   \n",
       "165      Whittier  California           27773               14818   \n",
       "166   Yorba Linda  California           24098               15656   \n",
       "167     Yuba City  California           24176               10785   \n",
       "\n",
       "     Male Unmarried Household  Female Unmarried Household  Nonfamily Household  \n",
       "31                        935                        3352                11710  \n",
       "32                       2397                        4473                 8575  \n",
       "33                       8273                       15078                29079  \n",
       "34                       2101                        6798                 8617  \n",
       "35                       1459                        2794                 7040  \n",
       "..                        ...                         ...                  ...  \n",
       "163                      2753                        6368                 5628  \n",
       "164                      2043                        4509                 6037  \n",
       "165                      2065                        4039                 6851  \n",
       "166                       752                        1833                 5857  \n",
       "167                      1838                        3872                 7681  \n",
       "\n",
       "[137 rows x 7 columns]"
      ]
     },
     "execution_count": 38,
     "metadata": {},
     "output_type": "execute_result"
    }
   ],
   "source": [
    "California_census = US_census_df.loc[US_census_df[\"State\"] == \"California\"]\n",
    "California_census"
   ]
  },
  {
   "cell_type": "code",
   "execution_count": 39,
   "id": "d86e7695",
   "metadata": {},
   "outputs": [
    {
     "data": {
      "text/html": [
       "<div>\n",
       "<style scoped>\n",
       "    .dataframe tbody tr th:only-of-type {\n",
       "        vertical-align: middle;\n",
       "    }\n",
       "\n",
       "    .dataframe tbody tr th {\n",
       "        vertical-align: top;\n",
       "    }\n",
       "\n",
       "    .dataframe thead th {\n",
       "        text-align: right;\n",
       "    }\n",
       "</style>\n",
       "<table border=\"1\" class=\"dataframe\">\n",
       "  <thead>\n",
       "    <tr style=\"text-align: right;\">\n",
       "      <th></th>\n",
       "      <th>City</th>\n",
       "      <th>State</th>\n",
       "      <th>Total Estimate</th>\n",
       "      <th>Married Households</th>\n",
       "      <th>Male Unmarried Household</th>\n",
       "      <th>Female Unmarried Household</th>\n",
       "      <th>Nonfamily Household</th>\n",
       "    </tr>\n",
       "  </thead>\n",
       "  <tbody>\n",
       "    <tr>\n",
       "      <th>148</th>\n",
       "      <td>Temecula</td>\n",
       "      <td>California</td>\n",
       "      <td>34958</td>\n",
       "      <td>22216</td>\n",
       "      <td>2301</td>\n",
       "      <td>4342</td>\n",
       "      <td>6099</td>\n",
       "    </tr>\n",
       "  </tbody>\n",
       "</table>\n",
       "</div>"
      ],
      "text/plain": [
       "         City       State  Total Estimate  Married Households  \\\n",
       "148  Temecula  California           34958               22216   \n",
       "\n",
       "     Male Unmarried Household  Female Unmarried Household  Nonfamily Household  \n",
       "148                      2301                        4342                 6099  "
      ]
     },
     "execution_count": 39,
     "metadata": {},
     "output_type": "execute_result"
    }
   ],
   "source": [
    "Temecula_census = US_census_df.loc[US_census_df[\"City\"] == \"Temecula\"]\n",
    "Temecula_census"
   ]
  },
  {
   "cell_type": "code",
   "execution_count": 21,
   "id": "ad7fd29c",
   "metadata": {},
   "outputs": [
    {
     "name": "stdout",
     "output_type": "stream",
     "text": [
      "18298.5\n"
     ]
    }
   ],
   "source": [
    "median_married_US = US_census_df[\"Married Households\"].median()\n",
    "print(median_married_US)"
   ]
  },
  {
   "cell_type": "code",
   "execution_count": 40,
   "id": "393fc31f",
   "metadata": {},
   "outputs": [
    {
     "name": "stdout",
     "output_type": "stream",
     "text": [
      "18073.0\n"
     ]
    }
   ],
   "source": [
    "California_median = California_census[\"Married Households\"].median()\n",
    "print(California_median)"
   ]
  },
  {
   "cell_type": "code",
   "execution_count": 23,
   "id": "92a9a008",
   "metadata": {},
   "outputs": [
    {
     "name": "stdout",
     "output_type": "stream",
     "text": [
      "2275.0\n"
     ]
    }
   ],
   "source": [
    "median_male_US = US_census_df[\"Male Unmarried Household\"].median()\n",
    "print(median_male_US)"
   ]
  },
  {
   "cell_type": "code",
   "execution_count": 41,
   "id": "1aa396d9",
   "metadata": {},
   "outputs": [
    {
     "name": "stdout",
     "output_type": "stream",
     "text": [
      "2519.0\n"
     ]
    }
   ],
   "source": [
    "California_median_male = California_census[\"Male Unmarried Household\"].median()\n",
    "print(California_median_male)"
   ]
  },
  {
   "cell_type": "code",
   "execution_count": 25,
   "id": "34b78bca",
   "metadata": {},
   "outputs": [
    {
     "name": "stdout",
     "output_type": "stream",
     "text": [
      "5400.5\n"
     ]
    }
   ],
   "source": [
    "median_Female_US = US_census_df[\"Female Unmarried Household\"].median()\n",
    "print(median_Female_US)"
   ]
  },
  {
   "cell_type": "code",
   "execution_count": 42,
   "id": "0784ce2a",
   "metadata": {},
   "outputs": [
    {
     "name": "stdout",
     "output_type": "stream",
     "text": [
      "4633.0\n"
     ]
    }
   ],
   "source": [
    "California_median_female = California_census[\"Female Unmarried Household\"].median()\n",
    "print(California_median_female)"
   ]
  },
  {
   "cell_type": "code",
   "execution_count": 27,
   "id": "bde31496",
   "metadata": {},
   "outputs": [
    {
     "name": "stdout",
     "output_type": "stream",
     "text": [
      "14825.5\n"
     ]
    }
   ],
   "source": [
    "median_single_US = US_census_df[\"Nonfamily Household\"].median()\n",
    "print(median_single_US)"
   ]
  },
  {
   "cell_type": "code",
   "execution_count": 43,
   "id": "d6814a48",
   "metadata": {},
   "outputs": [
    {
     "name": "stdout",
     "output_type": "stream",
     "text": [
      "10156.0\n"
     ]
    }
   ],
   "source": [
    "California_median_single = California_census[\"Nonfamily Household\"].median()\n",
    "print(California_median_single)"
   ]
  },
  {
   "cell_type": "code",
   "execution_count": 31,
   "id": "30e9e343",
   "metadata": {},
   "outputs": [],
   "source": [
    "median_US_households = [\"Married Households\", \"Male Unmarried Household\", \"Female Unmarried Household\", \"Nonfamily Household\"]\n",
    "number_of_households = [18298.5, 2275.0, 5400.5, 14825.5]\n",
    "x_axis = np.arange(len(number_of_households))"
   ]
  },
  {
   "cell_type": "code",
   "execution_count": 32,
   "id": "4af8ad09",
   "metadata": {},
   "outputs": [
    {
     "data": {
      "text/plain": [
       "Text(0, 0.5, 'Population of households')"
      ]
     },
     "execution_count": 32,
     "metadata": {},
     "output_type": "execute_result"
    },
    {
     "data": {
      "image/png": "[encoded data removed]",
      "text/plain": [
       "<Figure size 640x480 with 1 Axes>"
      ]
     },
     "metadata": {},
     "output_type": "display_data"
    }
   ],
   "source": [
    "plt.bar(x_axis, number_of_households, color=\"b\", align=\"center\")\n",
    "tick_locations = [value for value in x_axis]\n",
    "plt.xticks(tick_locations, median_US_households)\n",
    "plt.xticks(x_axis, rotation=90)\n",
    "plt.title(\"Median US households\")\n",
    "plt.ylabel(\"Population of households\")"
   ]
  },
  {
   "cell_type": "code",
   "execution_count": 45,
   "id": "5e350e9d",
   "metadata": {},
   "outputs": [],
   "source": [
    "California_medain_households = [\"Married Households\", \"Male Unmarried Household\", \"Female Unmarried Household\", \"Nonfamily Household\"]\n",
    "number_of_California_households = [18073.0, 2519.0, 4633.0, 10156.0]\n",
    "x_axis = np.arange(len(number_of_California_households))"
   ]
  },
  {
   "cell_type": "code",
   "execution_count": 46,
   "id": "4a873be2",
   "metadata": {},
   "outputs": [
    {
     "data": {
      "text/plain": [
       "Text(0, 0.5, 'Population of California households')"
      ]
     },
     "execution_count": 46,
     "metadata": {},
     "output_type": "execute_result"
    },
    {
     "data": {
      "image/png": "[encoded data removed]",
      "text/plain": [
       "<Figure size 640x480 with 1 Axes>"
      ]
     },
     "metadata": {},
     "output_type": "display_data"
    }
   ],
   "source": [
    "plt.bar(x_axis, number_of_California_households, color=\"r\", align=\"center\")\n",
    "tick_locations = [value for value in x_axis]\n",
    "plt.xticks(tick_locations, California_medain_households)\n",
    "plt.xticks(x_axis, rotation=90)\n",
    "plt.title(\"Median California households\")\n",
    "plt.ylabel(\"Population of California households\")"
   ]
  },
  {
   "cell_type": "code",
   "execution_count": 62,
   "id": "29999b1d",
   "metadata": {},
   "outputs": [
    {
     "data": {
      "image/png": "[encoded data removed]",
      "text/plain": [
       "<Figure size 640x480 with 1 Axes>"
      ]
     },
     "metadata": {},
     "output_type": "display_data"
    }
   ],
   "source": [
    "median_US_households = [\"Married Households\", \"Male Unmarried Household\", \"Female Unmarried Household\", \"Nonfamily Household\"]\n",
    "number_of_US_households = [18298.5, 2275.0, 5400.5, 14825.5]\n",
    "California_medain_households = [\"Married Households\", \"Male Unmarried Household\", \"Female Unmarried Household\", \"Nonfamily Household\"]\n",
    "number_of_California_households = [18073.0, 2519.0, 4633.0, 10156.0]\n",
    "Temecula_medain_households = [\"Married Households\", \"Male Unmarried Household\", \"Female Unmarried Household\", \"Nonfamily Household\"]\n",
    "number_of_Temecula_households = [22216, 2301, 4342, 6099]\n",
    "x_axis = np.arange(len(number_of_households))\n",
    "\n",
    "#Create the first bar chart\n",
    "plt.bar(x_axis+0.0, number_of_households, width=0.2)\n",
    "\n",
    "#Create the second bar chart\n",
    "plt.bar(x_axis+0.6, number_of_California_households, width=0.2)\n",
    "\n",
    "#Create the third bar chart\n",
    "plt.bar(x_axis+0.3, number_of_Temecula_households, width=0.2)\n",
    "\n",
    "#Label the x-axis\n",
    "plt.xlabel('Household Type')\n",
    "\n",
    "plt.xticks(tick_locations, California_medain_households)\n",
    "plt.xticks(x_axis, rotation=45)\n",
    "\n",
    "plt.legend(['number_of_US_households', 'number_of_California_households', 'number_of_Temecula_households'])\n",
    "\n",
    "#Show the plot\n",
    "plt.show()"
   ]
  }
 ],
 "metadata": {
  "kernelspec": {
   "display_name": "Python 3 (ipykernel)",
   "language": "python",
   "name": "python3"
  },
  "language_info": {
   "codemirror_mode": {
    "name": "ipython",
    "version": 3
   },
   "file_extension": ".py",
   "mimetype": "text/x-python",
   "name": "python",
   "nbconvert_exporter": "python",
   "pygments_lexer": "ipython3",
   "version": "3.9.13"
  }
 },
 "nbformat": 4,
 "nbformat_minor": 5
}
