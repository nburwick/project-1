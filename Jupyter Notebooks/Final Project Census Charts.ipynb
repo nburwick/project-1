{
 "cells": [
  {
   "cell_type": "code",
   "execution_count": 1,
   "id": "44dfb372",
   "metadata": {},
   "outputs": [],
   "source": [
    "# Dependencies\n",
    "import pandas as pd\n",
    "import numpy as np\n",
    "import requests\n",
    "import json\n",
    "import matplotlib.pyplot as plt\n"
   ]
  },
  {
   "cell_type": "code",
   "execution_count": 3,
   "id": "2d1fcf48",
   "metadata": {},
   "outputs": [],
   "source": [
    "#US_census_df = pd.read_csv(\"../US census date final.csv\")"
   ]
  },
  {
   "cell_type": "code",
   "execution_count": null,
   "id": "27ff644d",
   "metadata": {
    "scrolled": false
   },
   "outputs": [],
   "source": [
    "US_census_df.head(30)"
   ]
  },
  {
   "cell_type": "code",
   "execution_count": null,
   "id": "5ef374d5",
   "metadata": {},
   "outputs": [],
   "source": [
    "US_census_df['City'].nunique()"
   ]
  },
  {
   "cell_type": "code",
   "execution_count": null,
   "id": "3b9cc72c",
   "metadata": {},
   "outputs": [],
   "source": [
    "US_census_df['State'].nunique()"
   ]
  },
  {
   "cell_type": "code",
   "execution_count": null,
   "id": "b049b70d",
   "metadata": {},
   "outputs": [],
   "source": [
    "Alabama_census = US_census_df.loc[US_census_df[\"State\"] == \"Alabama\"]\n",
    "Alabama_census"
   ]
  },
  {
   "cell_type": "code",
   "execution_count": null,
   "id": "ad7fd29c",
   "metadata": {},
   "outputs": [],
   "source": [
    "median_married_US = US_census_df[\"Married Households\"].median()\n",
    "print(median_married_US)"
   ]
  },
  {
   "cell_type": "code",
   "execution_count": null,
   "id": "2435053c",
   "metadata": {},
   "outputs": [],
   "source": [
    "Alabama_median = Alabama_census[\"Married Households\"].median()\n",
    "print(Alabama_median)"
   ]
  },
  {
   "cell_type": "code",
   "execution_count": null,
   "id": "790dd37b",
   "metadata": {},
   "outputs": [],
   "source": [
    "median_male_US = US_census_df[\"Male Unmarried Household\"].median()\n",
    "print(median_male_US)"
   ]
  },
  {
   "cell_type": "code",
   "execution_count": null,
   "id": "78b35fa5",
   "metadata": {},
   "outputs": [],
   "source": [
    "Alabama_median_male = Alabama_census[\"Male Unmarried Household\"].median()\n",
    "print(Alabama_median_male)"
   ]
  },
  {
   "cell_type": "code",
   "execution_count": null,
   "id": "2f814f10",
   "metadata": {},
   "outputs": [],
   "source": [
    "median_Female_US = US_census_df[\"Female Unmarried Household\"].median()\n",
    "print(median_Female_US)"
   ]
  },
  {
   "cell_type": "code",
   "execution_count": null,
   "id": "c4151dbd",
   "metadata": {},
   "outputs": [],
   "source": [
    "Alabama_median_female = Alabama_census[\"Female Unmarried Household\"].median()\n",
    "print(Alabama_median_female)"
   ]
  },
  {
   "cell_type": "code",
   "execution_count": null,
   "id": "cea2f387",
   "metadata": {},
   "outputs": [],
   "source": [
    "median_single_US = US_census_df[\"Nonfamily Household\"].median()\n",
    "print(median_single_US)"
   ]
  },
  {
   "cell_type": "code",
   "execution_count": null,
   "id": "e4a30bdc",
   "metadata": {},
   "outputs": [],
   "source": [
    "Alabama_median_single = Alabama_census[\"Nonfamily Household\"].median()\n",
    "print(Alabama_median_single)"
   ]
  },
  {
   "cell_type": "code",
   "execution_count": null,
   "id": "fd81c8ca",
   "metadata": {},
   "outputs": [],
   "source": [
    "median_US_households = [\"Married Households\", \"Male Unmarried Household\", \"Female Unmarried Household\", \"Nonfamily Household\"]\n",
    "number_of_households = [20289.0, 2275.0, 5400.5, 14825.5]\n",
    "x_axis = np.arange(len(number_of_households))"
   ]
  },
  {
   "cell_type": "code",
   "execution_count": null,
   "id": "72b02c78",
   "metadata": {},
   "outputs": [],
   "source": [
    "plt.bar(x_axis, number_of_households, color=\"b\", align=\"center\")\n",
    "tick_locations = [value for value in x_axis]\n",
    "plt.xticks(tick_locations, median_US_households)\n",
    "plt.xticks(x_axis, rotation=90)\n",
    "plt.title(\"Median US households\")\n",
    "plt.ylabel(\"Population of households\")"
   ]
  },
  {
   "cell_type": "code",
   "execution_count": null,
   "id": "df0f17a7",
   "metadata": {},
   "outputs": [],
   "source": [
    "Alabama_medain_households = [\"Married Households\", \"Male Unmarried Household\", \"Female Unmarried Household\", \"Nonfamily Household\"]\n",
    "number_of_alabama_households = [18298.5, 2488.5, 8593.0, 24769.5]\n",
    "x_axis = np.arange(len(number_of_alabama_households))"
   ]
  },
  {
   "cell_type": "code",
   "execution_count": null,
   "id": "83bdad28",
   "metadata": {},
   "outputs": [],
   "source": [
    "plt.bar(x_axis, number_of_alabama_households, color=\"r\", align=\"center\")\n",
    "tick_locations = [value for value in x_axis]\n",
    "plt.xticks(tick_locations, Alabama_medain_households)\n",
    "plt.xticks(x_axis, rotation=90)\n",
    "plt.title(\"Median Alabama households\")\n",
    "plt.ylabel(\"Population of Alabama households\")"
   ]
  },
  {
   "cell_type": "code",
   "execution_count": null,
   "id": "a050aeea",
   "metadata": {},
   "outputs": [],
   "source": [
    "median_US_households = [\"Married Households\", \"Male Unmarried Household\", \"Female Unmarried Household\", \"Nonfamily Household\"]\n",
    "number_of_households = [20289.0, 2275.0, 5400.5, 14825.5]\n",
    "Alabama_medain_households = [\"Married Households\", \"Male Unmarried Household\", \"Female Unmarried Household\", \"Nonfamily Household\"]\n",
    "number_of_alabama_households = [18298.5, 2488.5, 8593.0, 24769.5]\n",
    "x_axis = np.arange(len(number_of_households))\n",
    "\n",
    "#Create the first bar chart\n",
    "plt.bar(x_axis, number_of_households, width=0.4)\n",
    "\n",
    "#Create the second bar chart\n",
    "plt.bar(x_axis+0.4, number_of_alabama_households, width=0.4)\n",
    "\n",
    "#Label the x-axis\n",
    "plt.xlabel('Household Type')\n",
    "\n",
    "plt.xticks(tick_locations, Alabama_medain_households)\n",
    "plt.xticks(x_axis, rotation=90)\n",
    "\n",
    "plt.legend(['number_of_households', 'number_of_alabama_households'])\n",
    "\n",
    "#Show the plot\n",
    "plt.show()"
   ]
  }
 ],
 "metadata": {
  "kernelspec": {
   "display_name": "Python 3 (ipykernel)",
   "language": "python",
   "name": "python3"
  },
  "language_info": {
   "codemirror_mode": {
    "name": "ipython",
    "version": 3
   },
   "file_extension": ".py",
   "mimetype": "text/x-python",
   "name": "python",
   "nbconvert_exporter": "python",
   "pygments_lexer": "ipython3",
   "version": "3.9.13"
  }
 },
 "nbformat": 4,
 "nbformat_minor": 5
}
