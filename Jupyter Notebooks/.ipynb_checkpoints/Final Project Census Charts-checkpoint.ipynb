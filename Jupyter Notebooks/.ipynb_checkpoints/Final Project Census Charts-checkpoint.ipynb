{
 "cells": [
  {
   "cell_type": "code",
   "execution_count": 1,
   "id": "44dfb372",
   "metadata": {},
   "outputs": [],
   "source": [
    "# Dependencies\n",
    "import pandas as pd\n",
    "import numpy as np\n",
    "import requests\n",
    "import json\n",
    "import matplotlib.pyplot as plt\n"
   ]
  },
  {
   "cell_type": "code",
   "execution_count": 2,
   "id": "2d1fcf48",
   "metadata": {},
   "outputs": [
    {
     "ename": "FileNotFoundError",
     "evalue": "[Errno 2] No such file or directory: '../US census date final.csv'",
     "output_type": "error",
     "traceback": [
      "\u001b[0;31m---------------------------------------------------------------------------\u001b[0m",
      "\u001b[0;31mFileNotFoundError\u001b[0m                         Traceback (most recent call last)",
      "\u001b[0;32m/var/folders/rm/9m_lk8gn4758qnllclwr1mg80000gn/T/ipykernel_40234/3577575510.py\u001b[0m in \u001b[0;36m<module>\u001b[0;34m\u001b[0m\n\u001b[0;32m----> 1\u001b[0;31m \u001b[0mUS_census_df\u001b[0m \u001b[0;34m=\u001b[0m \u001b[0mpd\u001b[0m\u001b[0;34m.\u001b[0m\u001b[0mread_csv\u001b[0m\u001b[0;34m(\u001b[0m\u001b[0;34m\"../US census date final.csv\"\u001b[0m\u001b[0;34m)\u001b[0m\u001b[0;34m\u001b[0m\u001b[0;34m\u001b[0m\u001b[0m\n\u001b[0m",
      "\u001b[0;32m~/opt/anaconda3/lib/python3.9/site-packages/pandas/util/_decorators.py\u001b[0m in \u001b[0;36mwrapper\u001b[0;34m(*args, **kwargs)\u001b[0m\n\u001b[1;32m    309\u001b[0m                     \u001b[0mstacklevel\u001b[0m\u001b[0;34m=\u001b[0m\u001b[0mstacklevel\u001b[0m\u001b[0;34m,\u001b[0m\u001b[0;34m\u001b[0m\u001b[0;34m\u001b[0m\u001b[0m\n\u001b[1;32m    310\u001b[0m                 )\n\u001b[0;32m--> 311\u001b[0;31m             \u001b[0;32mreturn\u001b[0m \u001b[0mfunc\u001b[0m\u001b[0;34m(\u001b[0m\u001b[0;34m*\u001b[0m\u001b[0margs\u001b[0m\u001b[0;34m,\u001b[0m \u001b[0;34m**\u001b[0m\u001b[0mkwargs\u001b[0m\u001b[0;34m)\u001b[0m\u001b[0;34m\u001b[0m\u001b[0;34m\u001b[0m\u001b[0m\n\u001b[0m\u001b[1;32m    312\u001b[0m \u001b[0;34m\u001b[0m\u001b[0m\n\u001b[1;32m    313\u001b[0m         \u001b[0;32mreturn\u001b[0m \u001b[0mwrapper\u001b[0m\u001b[0;34m\u001b[0m\u001b[0;34m\u001b[0m\u001b[0m\n",
      "\u001b[0;32m~/opt/anaconda3/lib/python3.9/site-packages/pandas/io/parsers/readers.py\u001b[0m in \u001b[0;36mread_csv\u001b[0;34m(filepath_or_buffer, sep, delimiter, header, names, index_col, usecols, squeeze, prefix, mangle_dupe_cols, dtype, engine, converters, true_values, false_values, skipinitialspace, skiprows, skipfooter, nrows, na_values, keep_default_na, na_filter, verbose, skip_blank_lines, parse_dates, infer_datetime_format, keep_date_col, date_parser, dayfirst, cache_dates, iterator, chunksize, compression, thousands, decimal, lineterminator, quotechar, quoting, doublequote, escapechar, comment, encoding, encoding_errors, dialect, error_bad_lines, warn_bad_lines, on_bad_lines, delim_whitespace, low_memory, memory_map, float_precision, storage_options)\u001b[0m\n\u001b[1;32m    676\u001b[0m     \u001b[0mkwds\u001b[0m\u001b[0;34m.\u001b[0m\u001b[0mupdate\u001b[0m\u001b[0;34m(\u001b[0m\u001b[0mkwds_defaults\u001b[0m\u001b[0;34m)\u001b[0m\u001b[0;34m\u001b[0m\u001b[0;34m\u001b[0m\u001b[0m\n\u001b[1;32m    677\u001b[0m \u001b[0;34m\u001b[0m\u001b[0m\n\u001b[0;32m--> 678\u001b[0;31m     \u001b[0;32mreturn\u001b[0m \u001b[0m_read\u001b[0m\u001b[0;34m(\u001b[0m\u001b[0mfilepath_or_buffer\u001b[0m\u001b[0;34m,\u001b[0m \u001b[0mkwds\u001b[0m\u001b[0;34m)\u001b[0m\u001b[0;34m\u001b[0m\u001b[0;34m\u001b[0m\u001b[0m\n\u001b[0m\u001b[1;32m    679\u001b[0m \u001b[0;34m\u001b[0m\u001b[0m\n\u001b[1;32m    680\u001b[0m \u001b[0;34m\u001b[0m\u001b[0m\n",
      "\u001b[0;32m~/opt/anaconda3/lib/python3.9/site-packages/pandas/io/parsers/readers.py\u001b[0m in \u001b[0;36m_read\u001b[0;34m(filepath_or_buffer, kwds)\u001b[0m\n\u001b[1;32m    573\u001b[0m \u001b[0;34m\u001b[0m\u001b[0m\n\u001b[1;32m    574\u001b[0m     \u001b[0;31m# Create the parser.\u001b[0m\u001b[0;34m\u001b[0m\u001b[0;34m\u001b[0m\u001b[0m\n\u001b[0;32m--> 575\u001b[0;31m     \u001b[0mparser\u001b[0m \u001b[0;34m=\u001b[0m \u001b[0mTextFileReader\u001b[0m\u001b[0;34m(\u001b[0m\u001b[0mfilepath_or_buffer\u001b[0m\u001b[0;34m,\u001b[0m \u001b[0;34m**\u001b[0m\u001b[0mkwds\u001b[0m\u001b[0;34m)\u001b[0m\u001b[0;34m\u001b[0m\u001b[0;34m\u001b[0m\u001b[0m\n\u001b[0m\u001b[1;32m    576\u001b[0m \u001b[0;34m\u001b[0m\u001b[0m\n\u001b[1;32m    577\u001b[0m     \u001b[0;32mif\u001b[0m \u001b[0mchunksize\u001b[0m \u001b[0;32mor\u001b[0m \u001b[0miterator\u001b[0m\u001b[0;34m:\u001b[0m\u001b[0;34m\u001b[0m\u001b[0;34m\u001b[0m\u001b[0m\n",
      "\u001b[0;32m~/opt/anaconda3/lib/python3.9/site-packages/pandas/io/parsers/readers.py\u001b[0m in \u001b[0;36m__init__\u001b[0;34m(self, f, engine, **kwds)\u001b[0m\n\u001b[1;32m    930\u001b[0m \u001b[0;34m\u001b[0m\u001b[0m\n\u001b[1;32m    931\u001b[0m         \u001b[0mself\u001b[0m\u001b[0;34m.\u001b[0m\u001b[0mhandles\u001b[0m\u001b[0;34m:\u001b[0m \u001b[0mIOHandles\u001b[0m \u001b[0;34m|\u001b[0m \u001b[0;32mNone\u001b[0m \u001b[0;34m=\u001b[0m \u001b[0;32mNone\u001b[0m\u001b[0;34m\u001b[0m\u001b[0;34m\u001b[0m\u001b[0m\n\u001b[0;32m--> 932\u001b[0;31m         \u001b[0mself\u001b[0m\u001b[0;34m.\u001b[0m\u001b[0m_engine\u001b[0m \u001b[0;34m=\u001b[0m \u001b[0mself\u001b[0m\u001b[0;34m.\u001b[0m\u001b[0m_make_engine\u001b[0m\u001b[0;34m(\u001b[0m\u001b[0mf\u001b[0m\u001b[0;34m,\u001b[0m \u001b[0mself\u001b[0m\u001b[0;34m.\u001b[0m\u001b[0mengine\u001b[0m\u001b[0;34m)\u001b[0m\u001b[0;34m\u001b[0m\u001b[0;34m\u001b[0m\u001b[0m\n\u001b[0m\u001b[1;32m    933\u001b[0m \u001b[0;34m\u001b[0m\u001b[0m\n\u001b[1;32m    934\u001b[0m     \u001b[0;32mdef\u001b[0m \u001b[0mclose\u001b[0m\u001b[0;34m(\u001b[0m\u001b[0mself\u001b[0m\u001b[0;34m)\u001b[0m\u001b[0;34m:\u001b[0m\u001b[0;34m\u001b[0m\u001b[0;34m\u001b[0m\u001b[0m\n",
      "\u001b[0;32m~/opt/anaconda3/lib/python3.9/site-packages/pandas/io/parsers/readers.py\u001b[0m in \u001b[0;36m_make_engine\u001b[0;34m(self, f, engine)\u001b[0m\n\u001b[1;32m   1214\u001b[0m             \u001b[0;31m# \"Union[str, PathLike[str], ReadCsvBuffer[bytes], ReadCsvBuffer[str]]\"\u001b[0m\u001b[0;34m\u001b[0m\u001b[0;34m\u001b[0m\u001b[0m\n\u001b[1;32m   1215\u001b[0m             \u001b[0;31m# , \"str\", \"bool\", \"Any\", \"Any\", \"Any\", \"Any\", \"Any\"\u001b[0m\u001b[0;34m\u001b[0m\u001b[0;34m\u001b[0m\u001b[0m\n\u001b[0;32m-> 1216\u001b[0;31m             self.handles = get_handle(  # type: ignore[call-overload]\n\u001b[0m\u001b[1;32m   1217\u001b[0m                 \u001b[0mf\u001b[0m\u001b[0;34m,\u001b[0m\u001b[0;34m\u001b[0m\u001b[0;34m\u001b[0m\u001b[0m\n\u001b[1;32m   1218\u001b[0m                 \u001b[0mmode\u001b[0m\u001b[0;34m,\u001b[0m\u001b[0;34m\u001b[0m\u001b[0;34m\u001b[0m\u001b[0m\n",
      "\u001b[0;32m~/opt/anaconda3/lib/python3.9/site-packages/pandas/io/common.py\u001b[0m in \u001b[0;36mget_handle\u001b[0;34m(path_or_buf, mode, encoding, compression, memory_map, is_text, errors, storage_options)\u001b[0m\n\u001b[1;32m    784\u001b[0m         \u001b[0;32mif\u001b[0m \u001b[0mioargs\u001b[0m\u001b[0;34m.\u001b[0m\u001b[0mencoding\u001b[0m \u001b[0;32mand\u001b[0m \u001b[0;34m\"b\"\u001b[0m \u001b[0;32mnot\u001b[0m \u001b[0;32min\u001b[0m \u001b[0mioargs\u001b[0m\u001b[0;34m.\u001b[0m\u001b[0mmode\u001b[0m\u001b[0;34m:\u001b[0m\u001b[0;34m\u001b[0m\u001b[0;34m\u001b[0m\u001b[0m\n\u001b[1;32m    785\u001b[0m             \u001b[0;31m# Encoding\u001b[0m\u001b[0;34m\u001b[0m\u001b[0;34m\u001b[0m\u001b[0m\n\u001b[0;32m--> 786\u001b[0;31m             handle = open(\n\u001b[0m\u001b[1;32m    787\u001b[0m                 \u001b[0mhandle\u001b[0m\u001b[0;34m,\u001b[0m\u001b[0;34m\u001b[0m\u001b[0;34m\u001b[0m\u001b[0m\n\u001b[1;32m    788\u001b[0m                 \u001b[0mioargs\u001b[0m\u001b[0;34m.\u001b[0m\u001b[0mmode\u001b[0m\u001b[0;34m,\u001b[0m\u001b[0;34m\u001b[0m\u001b[0;34m\u001b[0m\u001b[0m\n",
      "\u001b[0;31mFileNotFoundError\u001b[0m: [Errno 2] No such file or directory: '../US census date final.csv'"
     ]
    }
   ],
   "source": [
    "US_census_df = pd.read_csv(\"../US census date final.csv\")"
   ]
  },
  {
   "cell_type": "code",
   "execution_count": null,
   "id": "27ff644d",
   "metadata": {
    "scrolled": false
   },
   "outputs": [],
   "source": [
    "US_census_df.head(30)"
   ]
  },
  {
   "cell_type": "code",
   "execution_count": null,
   "id": "5ef374d5",
   "metadata": {},
   "outputs": [],
   "source": [
    "US_census_df['City'].nunique()"
   ]
  },
  {
   "cell_type": "code",
   "execution_count": null,
   "id": "3b9cc72c",
   "metadata": {},
   "outputs": [],
   "source": [
    "US_census_df['State'].nunique()"
   ]
  },
  {
   "cell_type": "code",
   "execution_count": null,
   "id": "b049b70d",
   "metadata": {},
   "outputs": [],
   "source": [
    "Alabama_census = US_census_df.loc[US_census_df[\"State\"] == \"Alabama\"]\n",
    "Alabama_census"
   ]
  },
  {
   "cell_type": "code",
   "execution_count": null,
   "id": "ad7fd29c",
   "metadata": {},
   "outputs": [],
   "source": [
    "median_married_US = US_census_df[\"Married Households\"].median()\n",
    "print(median_married_US)"
   ]
  },
  {
   "cell_type": "code",
   "execution_count": null,
   "id": "2435053c",
   "metadata": {},
   "outputs": [],
   "source": [
    "Alabama_median = Alabama_census[\"Married Households\"].median()\n",
    "print(Alabama_median)"
   ]
  },
  {
   "cell_type": "code",
   "execution_count": null,
   "id": "790dd37b",
   "metadata": {},
   "outputs": [],
   "source": [
    "median_male_US = US_census_df[\"Male Unmarried Household\"].median()\n",
    "print(median_male_US)"
   ]
  },
  {
   "cell_type": "code",
   "execution_count": null,
   "id": "78b35fa5",
   "metadata": {},
   "outputs": [],
   "source": [
    "Alabama_median_male = Alabama_census[\"Male Unmarried Household\"].median()\n",
    "print(Alabama_median_male)"
   ]
  },
  {
   "cell_type": "code",
   "execution_count": null,
   "id": "2f814f10",
   "metadata": {},
   "outputs": [],
   "source": [
    "median_Female_US = US_census_df[\"Female Unmarried Household\"].median()\n",
    "print(median_Female_US)"
   ]
  },
  {
   "cell_type": "code",
   "execution_count": null,
   "id": "c4151dbd",
   "metadata": {},
   "outputs": [],
   "source": [
    "Alabama_median_female = Alabama_census[\"Female Unmarried Household\"].median()\n",
    "print(Alabama_median_female)"
   ]
  },
  {
   "cell_type": "code",
   "execution_count": null,
   "id": "cea2f387",
   "metadata": {},
   "outputs": [],
   "source": [
    "median_single_US = US_census_df[\"Nonfamily Household\"].median()\n",
    "print(median_single_US)"
   ]
  },
  {
   "cell_type": "code",
   "execution_count": null,
   "id": "e4a30bdc",
   "metadata": {},
   "outputs": [],
   "source": [
    "Alabama_median_single = Alabama_census[\"Nonfamily Household\"].median()\n",
    "print(Alabama_median_single)"
   ]
  },
  {
   "cell_type": "code",
   "execution_count": null,
   "id": "fd81c8ca",
   "metadata": {},
   "outputs": [],
   "source": [
    "median_US_households = [\"Married Households\", \"Male Unmarried Household\", \"Female Unmarried Household\", \"Nonfamily Household\"]\n",
    "number_of_households = [20289.0, 2275.0, 5400.5, 14825.5]\n",
    "x_axis = np.arange(len(number_of_households))"
   ]
  },
  {
   "cell_type": "code",
   "execution_count": null,
   "id": "72b02c78",
   "metadata": {},
   "outputs": [],
   "source": [
    "plt.bar(x_axis, number_of_households, color=\"b\", align=\"center\")\n",
    "tick_locations = [value for value in x_axis]\n",
    "plt.xticks(tick_locations, median_US_households)\n",
    "plt.xticks(x_axis, rotation=90)\n",
    "plt.title(\"Median US households\")\n",
    "plt.ylabel(\"Population of households\")"
   ]
  },
  {
   "cell_type": "code",
   "execution_count": null,
   "id": "df0f17a7",
   "metadata": {},
   "outputs": [],
   "source": [
    "Alabama_medain_households = [\"Married Households\", \"Male Unmarried Household\", \"Female Unmarried Household\", \"Nonfamily Household\"]\n",
    "number_of_alabama_households = [18298.5, 2488.5, 8593.0, 24769.5]\n",
    "x_axis = np.arange(len(number_of_alabama_households))"
   ]
  },
  {
   "cell_type": "code",
   "execution_count": null,
   "id": "83bdad28",
   "metadata": {},
   "outputs": [],
   "source": [
    "plt.bar(x_axis, number_of_alabama_households, color=\"r\", align=\"center\")\n",
    "tick_locations = [value for value in x_axis]\n",
    "plt.xticks(tick_locations, Alabama_medain_households)\n",
    "plt.xticks(x_axis, rotation=90)\n",
    "plt.title(\"Median Alabama households\")\n",
    "plt.ylabel(\"Population of Alabama households\")"
   ]
  },
  {
   "cell_type": "code",
   "execution_count": null,
   "id": "a050aeea",
   "metadata": {},
   "outputs": [],
   "source": [
    "median_US_households = [\"Married Households\", \"Male Unmarried Household\", \"Female Unmarried Household\", \"Nonfamily Household\"]\n",
    "number_of_households = [20289.0, 2275.0, 5400.5, 14825.5]\n",
    "Alabama_medain_households = [\"Married Households\", \"Male Unmarried Household\", \"Female Unmarried Household\", \"Nonfamily Household\"]\n",
    "number_of_alabama_households = [18298.5, 2488.5, 8593.0, 24769.5]\n",
    "x_axis = np.arange(len(number_of_households))\n",
    "\n",
    "#Create the first bar chart\n",
    "plt.bar(x_axis, number_of_households, width=0.4)\n",
    "\n",
    "#Create the second bar chart\n",
    "plt.bar(x_axis+0.4, number_of_alabama_households, width=0.4)\n",
    "\n",
    "#Label the x-axis\n",
    "plt.xlabel('Household Type')\n",
    "\n",
    "plt.xticks(tick_locations, Alabama_medain_households)\n",
    "plt.xticks(x_axis, rotation=90)\n",
    "\n",
    "plt.legend(['number_of_households', 'number_of_alabama_households'])\n",
    "\n",
    "#Show the plot\n",
    "plt.show()"
   ]
  }
 ],
 "metadata": {
  "kernelspec": {
   "display_name": "Python 3 (ipykernel)",
   "language": "python",
   "name": "python3"
  },
  "language_info": {
   "codemirror_mode": {
    "name": "ipython",
    "version": 3
   },
   "file_extension": ".py",
   "mimetype": "text/x-python",
   "name": "python",
   "nbconvert_exporter": "python",
   "pygments_lexer": "ipython3",
   "version": "3.9.13"
  }
 },
 "nbformat": 4,
 "nbformat_minor": 5
}
