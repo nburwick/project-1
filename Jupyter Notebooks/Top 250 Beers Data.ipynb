{
 "cells": [
  {
   "cell_type": "code",
   "execution_count": 1,
   "id": "cdd695b3-25bc-446b-aff3-820449b67198",
   "metadata": {},
   "outputs": [],
   "source": [
    "# Import Dependencies\n",
    "import pandas as pd\n",
    "import numpy as np\n",
    "import requests\n",
    "from pprint import pprint\n",
    "import os"
   ]
  },
  {
   "cell_type": "code",
   "execution_count": 2,
   "id": "8780d621-fce1-422d-95a2-6f1eb69139a8",
   "metadata": {},
   "outputs": [],
   "source": [
    "# Webscraping for Top 250 Beers - BeerAdvocate\n",
    "headers = {'Accept-Encoding': 'identity'}\n",
    "r = requests.get(\"https://www.beeradvocate.com/beer/top-rated/\", headers=headers)\n",
    "\n",
    "# Read Data into DataFrame\n",
    "response_data = pd.read_html(r.text, header=0)\n",
    "df = response_data[0]\n",
    "\n",
    "# Drop Unnecessary Column\n",
    "df.drop(columns='You', axis=1, inplace=True)\n",
    "\n",
    "# Rename Columns for Readability\n",
    "df.rename(columns={\n",
    "    df.columns[0]:'Rank', df.columns[1]:'Beer', df.columns[2]:'# of Ratings', df.columns[3]:'Avg. Rating'\n",
    "    }, inplace=True)"
   ]
  },
  {
   "cell_type": "code",
   "execution_count": 3,
   "id": "f29a0cd6-ff20-4f2a-aa39-304e210e025d",
   "metadata": {},
   "outputs": [
    {
     "data": {
      "text/html": [
       "<div>\n",
       "<style scoped>\n",
       "    .dataframe tbody tr th:only-of-type {\n",
       "        vertical-align: middle;\n",
       "    }\n",
       "\n",
       "    .dataframe tbody tr th {\n",
       "        vertical-align: top;\n",
       "    }\n",
       "\n",
       "    .dataframe thead th {\n",
       "        text-align: right;\n",
       "    }\n",
       "</style>\n",
       "<table border=\"1\" class=\"dataframe\">\n",
       "  <thead>\n",
       "    <tr style=\"text-align: right;\">\n",
       "      <th></th>\n",
       "      <th>Rank</th>\n",
       "      <th>Beer</th>\n",
       "      <th># of Ratings</th>\n",
       "      <th>Avg. Rating</th>\n",
       "    </tr>\n",
       "  </thead>\n",
       "  <tbody>\n",
       "    <tr>\n",
       "      <th>0</th>\n",
       "      <td>1</td>\n",
       "      <td>Kentucky Brunch Brand Stout Toppling Goliath B...</td>\n",
       "      <td>911</td>\n",
       "      <td>4.83</td>\n",
       "    </tr>\n",
       "    <tr>\n",
       "      <th>1</th>\n",
       "      <td>2</td>\n",
       "      <td>Vanilla Bean Assassin Toppling Goliath Brewing...</td>\n",
       "      <td>135</td>\n",
       "      <td>4.80</td>\n",
       "    </tr>\n",
       "    <tr>\n",
       "      <th>2</th>\n",
       "      <td>3</td>\n",
       "      <td>Marshmallow Handjee 3 Floyds Brewing Co. Russi...</td>\n",
       "      <td>1798</td>\n",
       "      <td>4.73</td>\n",
       "    </tr>\n",
       "    <tr>\n",
       "      <th>3</th>\n",
       "      <td>4</td>\n",
       "      <td>Abraxas - Barrel-Aged Perennial Artisan Ales A...</td>\n",
       "      <td>1661</td>\n",
       "      <td>4.73</td>\n",
       "    </tr>\n",
       "    <tr>\n",
       "      <th>4</th>\n",
       "      <td>5</td>\n",
       "      <td>Hunahpu's Imperial Stout - Double Barrel Aged ...</td>\n",
       "      <td>1663</td>\n",
       "      <td>4.72</td>\n",
       "    </tr>\n",
       "  </tbody>\n",
       "</table>\n",
       "</div>"
      ],
      "text/plain": [
       "   Rank                                               Beer  # of Ratings  \\\n",
       "0     1  Kentucky Brunch Brand Stout Toppling Goliath B...           911   \n",
       "1     2  Vanilla Bean Assassin Toppling Goliath Brewing...           135   \n",
       "2     3  Marshmallow Handjee 3 Floyds Brewing Co. Russi...          1798   \n",
       "3     4  Abraxas - Barrel-Aged Perennial Artisan Ales A...          1661   \n",
       "4     5  Hunahpu's Imperial Stout - Double Barrel Aged ...          1663   \n",
       "\n",
       "   Avg. Rating  \n",
       "0         4.83  \n",
       "1         4.80  \n",
       "2         4.73  \n",
       "3         4.73  \n",
       "4         4.72  "
      ]
     },
     "metadata": {},
     "output_type": "display_data"
    }
   ],
   "source": [
    "# Display Preview of DF\n",
    "display(df.head())"
   ]
  },
  {
   "cell_type": "code",
   "execution_count": 4,
   "id": "318be78f-c933-4b4c-9176-f414c3f07b77",
   "metadata": {},
   "outputs": [],
   "source": [
    "# Push to CSV File\n",
    "df.to_csv(os.path.join('..','Outputs','Beer Rankings (Top 250).csv'),index=False)"
   ]
  },
  {
   "cell_type": "code",
   "execution_count": null,
   "id": "881bb6b3-ba89-4d03-92b7-160803b16f6a",
   "metadata": {},
   "outputs": [],
   "source": []
  }
 ],
 "metadata": {
  "kernelspec": {
   "display_name": "Python 3 (ipykernel)",
   "language": "python",
   "name": "python3"
  },
  "language_info": {
   "codemirror_mode": {
    "name": "ipython",
    "version": 3
   },
   "file_extension": ".py",
   "mimetype": "text/x-python",
   "name": "python",
   "nbconvert_exporter": "python",
   "pygments_lexer": "ipython3",
   "version": "3.9.16"
  }
 },
 "nbformat": 4,
 "nbformat_minor": 5
}
